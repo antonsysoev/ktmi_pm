{
  "nbformat": 4,
  "nbformat_minor": 0,
  "metadata": {
    "colab": {
      "provenance": [],
      "authorship_tag": "ABX9TyNKJCGWa5Ctdw8BZxc+DQ2u",
      "include_colab_link": true
    },
    "kernelspec": {
      "name": "python3",
      "display_name": "Python 3"
    },
    "language_info": {
      "name": "python"
    }
  },
  "cells": [
    {
      "cell_type": "markdown",
      "metadata": {
        "id": "view-in-github",
        "colab_type": "text"
      },
      "source": [
        "<a href=\"https://colab.research.google.com/github/antonsysoev/ktmi_pm/blob/%D0%9F%D0%9C-19/%D0%BA_%D0%9B%D0%B5%D0%BA%D1%86%D0%B8%D0%B8_6_ANOVA.ipynb\" target=\"_parent\"><img src=\"https://colab.research.google.com/assets/colab-badge.svg\" alt=\"Open In Colab\"/></a>"
      ]
    },
    {
      "cell_type": "code",
      "execution_count": null,
      "metadata": {
        "id": "qg7d4N9B9KCL"
      },
      "outputs": [],
      "source": [
        "%load_ext rpy2.ipython"
      ]
    },
    {
      "cell_type": "code",
      "source": [
        "%%R\n",
        "install.packages(\"gplots\")\n",
        "\n",
        "library(tidyr)\n",
        "library(gplots)"
      ],
      "metadata": {
        "colab": {
          "base_uri": "https://localhost:8080/"
        },
        "id": "cLJuf10b9bMl",
        "outputId": "f43d24a8-d87d-4f2c-83a9-d4353dfb6ffa"
      },
      "execution_count": null,
      "outputs": [
        {
          "output_type": "stream",
          "name": "stderr",
          "text": [
            "WARNING:rpy2.rinterface_lib.callbacks:R[write to console]: Installing package into ‘/usr/local/lib/R/site-library’\n",
            "(as ‘lib’ is unspecified)\n",
            "\n",
            "WARNING:rpy2.rinterface_lib.callbacks:R[write to console]: also installing the dependencies ‘bitops’, ‘gtools’, ‘caTools’\n",
            "\n",
            "\n",
            "WARNING:rpy2.rinterface_lib.callbacks:R[write to console]: trying URL 'https://cran.rstudio.com/src/contrib/bitops_1.0-7.tar.gz'\n",
            "\n",
            "WARNING:rpy2.rinterface_lib.callbacks:R[write to console]: Content type 'application/x-gzip'\n",
            "WARNING:rpy2.rinterface_lib.callbacks:R[write to console]:  length 10809 bytes (10 KB)\n",
            "\n",
            "WARNING:rpy2.rinterface_lib.callbacks:R[write to console]: =\n",
            "WARNING:rpy2.rinterface_lib.callbacks:R[write to console]: =\n",
            "WARNING:rpy2.rinterface_lib.callbacks:R[write to console]: =\n",
            "WARNING:rpy2.rinterface_lib.callbacks:R[write to console]: =\n",
            "WARNING:rpy2.rinterface_lib.callbacks:R[write to console]: =\n",
            "WARNING:rpy2.rinterface_lib.callbacks:R[write to console]: =\n",
            "WARNING:rpy2.rinterface_lib.callbacks:R[write to console]: =\n",
            "WARNING:rpy2.rinterface_lib.callbacks:R[write to console]: =\n",
            "WARNING:rpy2.rinterface_lib.callbacks:R[write to console]: =\n",
            "WARNING:rpy2.rinterface_lib.callbacks:R[write to console]: =\n",
            "WARNING:rpy2.rinterface_lib.callbacks:R[write to console]: =\n",
            "WARNING:rpy2.rinterface_lib.callbacks:R[write to console]: =\n",
            "WARNING:rpy2.rinterface_lib.callbacks:R[write to console]: =\n",
            "WARNING:rpy2.rinterface_lib.callbacks:R[write to console]: =\n",
            "WARNING:rpy2.rinterface_lib.callbacks:R[write to console]: =\n",
            "WARNING:rpy2.rinterface_lib.callbacks:R[write to console]: =\n",
            "WARNING:rpy2.rinterface_lib.callbacks:R[write to console]: =\n",
            "WARNING:rpy2.rinterface_lib.callbacks:R[write to console]: =\n",
            "WARNING:rpy2.rinterface_lib.callbacks:R[write to console]: =\n",
            "WARNING:rpy2.rinterface_lib.callbacks:R[write to console]: =\n",
            "WARNING:rpy2.rinterface_lib.callbacks:R[write to console]: =\n",
            "WARNING:rpy2.rinterface_lib.callbacks:R[write to console]: =\n",
            "WARNING:rpy2.rinterface_lib.callbacks:R[write to console]: =\n",
            "WARNING:rpy2.rinterface_lib.callbacks:R[write to console]: =\n",
            "WARNING:rpy2.rinterface_lib.callbacks:R[write to console]: =\n",
            "WARNING:rpy2.rinterface_lib.callbacks:R[write to console]: =\n",
            "WARNING:rpy2.rinterface_lib.callbacks:R[write to console]: =\n",
            "WARNING:rpy2.rinterface_lib.callbacks:R[write to console]: =\n",
            "WARNING:rpy2.rinterface_lib.callbacks:R[write to console]: =\n",
            "WARNING:rpy2.rinterface_lib.callbacks:R[write to console]: =\n",
            "WARNING:rpy2.rinterface_lib.callbacks:R[write to console]: =\n",
            "WARNING:rpy2.rinterface_lib.callbacks:R[write to console]: =\n",
            "WARNING:rpy2.rinterface_lib.callbacks:R[write to console]: =\n",
            "WARNING:rpy2.rinterface_lib.callbacks:R[write to console]: =\n",
            "WARNING:rpy2.rinterface_lib.callbacks:R[write to console]: =\n",
            "WARNING:rpy2.rinterface_lib.callbacks:R[write to console]: =\n",
            "WARNING:rpy2.rinterface_lib.callbacks:R[write to console]: =\n",
            "WARNING:rpy2.rinterface_lib.callbacks:R[write to console]: =\n",
            "WARNING:rpy2.rinterface_lib.callbacks:R[write to console]: =\n",
            "WARNING:rpy2.rinterface_lib.callbacks:R[write to console]: =\n",
            "WARNING:rpy2.rinterface_lib.callbacks:R[write to console]: =\n",
            "WARNING:rpy2.rinterface_lib.callbacks:R[write to console]: =\n",
            "WARNING:rpy2.rinterface_lib.callbacks:R[write to console]: =\n",
            "WARNING:rpy2.rinterface_lib.callbacks:R[write to console]: =\n",
            "WARNING:rpy2.rinterface_lib.callbacks:R[write to console]: =\n",
            "WARNING:rpy2.rinterface_lib.callbacks:R[write to console]: =\n",
            "WARNING:rpy2.rinterface_lib.callbacks:R[write to console]: =\n",
            "WARNING:rpy2.rinterface_lib.callbacks:R[write to console]: =\n",
            "WARNING:rpy2.rinterface_lib.callbacks:R[write to console]: =\n",
            "WARNING:rpy2.rinterface_lib.callbacks:R[write to console]: =\n",
            "WARNING:rpy2.rinterface_lib.callbacks:R[write to console]: \n",
            "\n",
            "WARNING:rpy2.rinterface_lib.callbacks:R[write to console]: downloaded 10 KB\n",
            "\n",
            "\n",
            "WARNING:rpy2.rinterface_lib.callbacks:R[write to console]: trying URL 'https://cran.rstudio.com/src/contrib/gtools_3.9.3.tar.gz'\n",
            "\n",
            "WARNING:rpy2.rinterface_lib.callbacks:R[write to console]: Content type 'application/x-gzip'\n",
            "WARNING:rpy2.rinterface_lib.callbacks:R[write to console]:  length 240614 bytes (234 KB)\n",
            "\n",
            "WARNING:rpy2.rinterface_lib.callbacks:R[write to console]: =\n",
            "WARNING:rpy2.rinterface_lib.callbacks:R[write to console]: =\n",
            "WARNING:rpy2.rinterface_lib.callbacks:R[write to console]: =\n",
            "WARNING:rpy2.rinterface_lib.callbacks:R[write to console]: =\n",
            "WARNING:rpy2.rinterface_lib.callbacks:R[write to console]: =\n",
            "WARNING:rpy2.rinterface_lib.callbacks:R[write to console]: =\n",
            "WARNING:rpy2.rinterface_lib.callbacks:R[write to console]: =\n",
            "WARNING:rpy2.rinterface_lib.callbacks:R[write to console]: =\n",
            "WARNING:rpy2.rinterface_lib.callbacks:R[write to console]: =\n",
            "WARNING:rpy2.rinterface_lib.callbacks:R[write to console]: =\n",
            "WARNING:rpy2.rinterface_lib.callbacks:R[write to console]: =\n",
            "WARNING:rpy2.rinterface_lib.callbacks:R[write to console]: =\n",
            "WARNING:rpy2.rinterface_lib.callbacks:R[write to console]: =\n",
            "WARNING:rpy2.rinterface_lib.callbacks:R[write to console]: =\n",
            "WARNING:rpy2.rinterface_lib.callbacks:R[write to console]: =\n",
            "WARNING:rpy2.rinterface_lib.callbacks:R[write to console]: =\n",
            "WARNING:rpy2.rinterface_lib.callbacks:R[write to console]: =\n",
            "WARNING:rpy2.rinterface_lib.callbacks:R[write to console]: =\n",
            "WARNING:rpy2.rinterface_lib.callbacks:R[write to console]: =\n",
            "WARNING:rpy2.rinterface_lib.callbacks:R[write to console]: =\n",
            "WARNING:rpy2.rinterface_lib.callbacks:R[write to console]: =\n",
            "WARNING:rpy2.rinterface_lib.callbacks:R[write to console]: =\n",
            "WARNING:rpy2.rinterface_lib.callbacks:R[write to console]: =\n",
            "WARNING:rpy2.rinterface_lib.callbacks:R[write to console]: =\n",
            "WARNING:rpy2.rinterface_lib.callbacks:R[write to console]: =\n",
            "WARNING:rpy2.rinterface_lib.callbacks:R[write to console]: =\n",
            "WARNING:rpy2.rinterface_lib.callbacks:R[write to console]: =\n",
            "WARNING:rpy2.rinterface_lib.callbacks:R[write to console]: =\n",
            "WARNING:rpy2.rinterface_lib.callbacks:R[write to console]: =\n",
            "WARNING:rpy2.rinterface_lib.callbacks:R[write to console]: =\n",
            "WARNING:rpy2.rinterface_lib.callbacks:R[write to console]: =\n",
            "WARNING:rpy2.rinterface_lib.callbacks:R[write to console]: =\n",
            "WARNING:rpy2.rinterface_lib.callbacks:R[write to console]: =\n",
            "WARNING:rpy2.rinterface_lib.callbacks:R[write to console]: =\n",
            "WARNING:rpy2.rinterface_lib.callbacks:R[write to console]: =\n",
            "WARNING:rpy2.rinterface_lib.callbacks:R[write to console]: =\n",
            "WARNING:rpy2.rinterface_lib.callbacks:R[write to console]: =\n",
            "WARNING:rpy2.rinterface_lib.callbacks:R[write to console]: =\n",
            "WARNING:rpy2.rinterface_lib.callbacks:R[write to console]: =\n",
            "WARNING:rpy2.rinterface_lib.callbacks:R[write to console]: =\n",
            "WARNING:rpy2.rinterface_lib.callbacks:R[write to console]: =\n",
            "WARNING:rpy2.rinterface_lib.callbacks:R[write to console]: =\n",
            "WARNING:rpy2.rinterface_lib.callbacks:R[write to console]: =\n",
            "WARNING:rpy2.rinterface_lib.callbacks:R[write to console]: =\n",
            "WARNING:rpy2.rinterface_lib.callbacks:R[write to console]: =\n",
            "WARNING:rpy2.rinterface_lib.callbacks:R[write to console]: =\n",
            "WARNING:rpy2.rinterface_lib.callbacks:R[write to console]: =\n",
            "WARNING:rpy2.rinterface_lib.callbacks:R[write to console]: =\n",
            "WARNING:rpy2.rinterface_lib.callbacks:R[write to console]: =\n",
            "WARNING:rpy2.rinterface_lib.callbacks:R[write to console]: =\n",
            "WARNING:rpy2.rinterface_lib.callbacks:R[write to console]: \n",
            "\n",
            "WARNING:rpy2.rinterface_lib.callbacks:R[write to console]: downloaded 234 KB\n",
            "\n",
            "\n",
            "WARNING:rpy2.rinterface_lib.callbacks:R[write to console]: trying URL 'https://cran.rstudio.com/src/contrib/caTools_1.18.2.tar.gz'\n",
            "\n",
            "WARNING:rpy2.rinterface_lib.callbacks:R[write to console]: Content type 'application/x-gzip'\n",
            "WARNING:rpy2.rinterface_lib.callbacks:R[write to console]:  length 64960 bytes (63 KB)\n",
            "\n",
            "WARNING:rpy2.rinterface_lib.callbacks:R[write to console]: =\n",
            "WARNING:rpy2.rinterface_lib.callbacks:R[write to console]: =\n",
            "WARNING:rpy2.rinterface_lib.callbacks:R[write to console]: =\n",
            "WARNING:rpy2.rinterface_lib.callbacks:R[write to console]: =\n",
            "WARNING:rpy2.rinterface_lib.callbacks:R[write to console]: =\n",
            "WARNING:rpy2.rinterface_lib.callbacks:R[write to console]: =\n",
            "WARNING:rpy2.rinterface_lib.callbacks:R[write to console]: =\n",
            "WARNING:rpy2.rinterface_lib.callbacks:R[write to console]: =\n",
            "WARNING:rpy2.rinterface_lib.callbacks:R[write to console]: =\n",
            "WARNING:rpy2.rinterface_lib.callbacks:R[write to console]: =\n",
            "WARNING:rpy2.rinterface_lib.callbacks:R[write to console]: =\n",
            "WARNING:rpy2.rinterface_lib.callbacks:R[write to console]: =\n",
            "WARNING:rpy2.rinterface_lib.callbacks:R[write to console]: =\n",
            "WARNING:rpy2.rinterface_lib.callbacks:R[write to console]: =\n",
            "WARNING:rpy2.rinterface_lib.callbacks:R[write to console]: =\n",
            "WARNING:rpy2.rinterface_lib.callbacks:R[write to console]: =\n",
            "WARNING:rpy2.rinterface_lib.callbacks:R[write to console]: =\n",
            "WARNING:rpy2.rinterface_lib.callbacks:R[write to console]: =\n",
            "WARNING:rpy2.rinterface_lib.callbacks:R[write to console]: =\n",
            "WARNING:rpy2.rinterface_lib.callbacks:R[write to console]: =\n",
            "WARNING:rpy2.rinterface_lib.callbacks:R[write to console]: =\n",
            "WARNING:rpy2.rinterface_lib.callbacks:R[write to console]: =\n",
            "WARNING:rpy2.rinterface_lib.callbacks:R[write to console]: =\n",
            "WARNING:rpy2.rinterface_lib.callbacks:R[write to console]: =\n",
            "WARNING:rpy2.rinterface_lib.callbacks:R[write to console]: =\n",
            "WARNING:rpy2.rinterface_lib.callbacks:R[write to console]: =\n",
            "WARNING:rpy2.rinterface_lib.callbacks:R[write to console]: =\n",
            "WARNING:rpy2.rinterface_lib.callbacks:R[write to console]: =\n",
            "WARNING:rpy2.rinterface_lib.callbacks:R[write to console]: =\n",
            "WARNING:rpy2.rinterface_lib.callbacks:R[write to console]: =\n",
            "WARNING:rpy2.rinterface_lib.callbacks:R[write to console]: =\n",
            "WARNING:rpy2.rinterface_lib.callbacks:R[write to console]: =\n",
            "WARNING:rpy2.rinterface_lib.callbacks:R[write to console]: =\n",
            "WARNING:rpy2.rinterface_lib.callbacks:R[write to console]: =\n",
            "WARNING:rpy2.rinterface_lib.callbacks:R[write to console]: =\n",
            "WARNING:rpy2.rinterface_lib.callbacks:R[write to console]: =\n",
            "WARNING:rpy2.rinterface_lib.callbacks:R[write to console]: =\n",
            "WARNING:rpy2.rinterface_lib.callbacks:R[write to console]: =\n",
            "WARNING:rpy2.rinterface_lib.callbacks:R[write to console]: =\n",
            "WARNING:rpy2.rinterface_lib.callbacks:R[write to console]: =\n",
            "WARNING:rpy2.rinterface_lib.callbacks:R[write to console]: =\n",
            "WARNING:rpy2.rinterface_lib.callbacks:R[write to console]: =\n",
            "WARNING:rpy2.rinterface_lib.callbacks:R[write to console]: =\n",
            "WARNING:rpy2.rinterface_lib.callbacks:R[write to console]: =\n",
            "WARNING:rpy2.rinterface_lib.callbacks:R[write to console]: =\n",
            "WARNING:rpy2.rinterface_lib.callbacks:R[write to console]: =\n",
            "WARNING:rpy2.rinterface_lib.callbacks:R[write to console]: =\n",
            "WARNING:rpy2.rinterface_lib.callbacks:R[write to console]: =\n",
            "WARNING:rpy2.rinterface_lib.callbacks:R[write to console]: =\n",
            "WARNING:rpy2.rinterface_lib.callbacks:R[write to console]: =\n",
            "WARNING:rpy2.rinterface_lib.callbacks:R[write to console]: \n",
            "\n",
            "WARNING:rpy2.rinterface_lib.callbacks:R[write to console]: downloaded 63 KB\n",
            "\n",
            "\n",
            "WARNING:rpy2.rinterface_lib.callbacks:R[write to console]: trying URL 'https://cran.rstudio.com/src/contrib/gplots_3.1.3.tar.gz'\n",
            "\n",
            "WARNING:rpy2.rinterface_lib.callbacks:R[write to console]: Content type 'application/x-gzip'\n",
            "WARNING:rpy2.rinterface_lib.callbacks:R[write to console]:  length 520683 bytes (508 KB)\n",
            "\n",
            "WARNING:rpy2.rinterface_lib.callbacks:R[write to console]: =\n",
            "WARNING:rpy2.rinterface_lib.callbacks:R[write to console]: =\n",
            "WARNING:rpy2.rinterface_lib.callbacks:R[write to console]: =\n",
            "WARNING:rpy2.rinterface_lib.callbacks:R[write to console]: =\n",
            "WARNING:rpy2.rinterface_lib.callbacks:R[write to console]: =\n",
            "WARNING:rpy2.rinterface_lib.callbacks:R[write to console]: =\n",
            "WARNING:rpy2.rinterface_lib.callbacks:R[write to console]: =\n",
            "WARNING:rpy2.rinterface_lib.callbacks:R[write to console]: =\n",
            "WARNING:rpy2.rinterface_lib.callbacks:R[write to console]: =\n",
            "WARNING:rpy2.rinterface_lib.callbacks:R[write to console]: =\n",
            "WARNING:rpy2.rinterface_lib.callbacks:R[write to console]: =\n",
            "WARNING:rpy2.rinterface_lib.callbacks:R[write to console]: =\n",
            "WARNING:rpy2.rinterface_lib.callbacks:R[write to console]: =\n",
            "WARNING:rpy2.rinterface_lib.callbacks:R[write to console]: =\n",
            "WARNING:rpy2.rinterface_lib.callbacks:R[write to console]: =\n",
            "WARNING:rpy2.rinterface_lib.callbacks:R[write to console]: =\n",
            "WARNING:rpy2.rinterface_lib.callbacks:R[write to console]: =\n",
            "WARNING:rpy2.rinterface_lib.callbacks:R[write to console]: =\n",
            "WARNING:rpy2.rinterface_lib.callbacks:R[write to console]: =\n",
            "WARNING:rpy2.rinterface_lib.callbacks:R[write to console]: =\n",
            "WARNING:rpy2.rinterface_lib.callbacks:R[write to console]: =\n",
            "WARNING:rpy2.rinterface_lib.callbacks:R[write to console]: =\n",
            "WARNING:rpy2.rinterface_lib.callbacks:R[write to console]: =\n",
            "WARNING:rpy2.rinterface_lib.callbacks:R[write to console]: =\n",
            "WARNING:rpy2.rinterface_lib.callbacks:R[write to console]: =\n",
            "WARNING:rpy2.rinterface_lib.callbacks:R[write to console]: =\n",
            "WARNING:rpy2.rinterface_lib.callbacks:R[write to console]: =\n",
            "WARNING:rpy2.rinterface_lib.callbacks:R[write to console]: =\n",
            "WARNING:rpy2.rinterface_lib.callbacks:R[write to console]: =\n",
            "WARNING:rpy2.rinterface_lib.callbacks:R[write to console]: =\n",
            "WARNING:rpy2.rinterface_lib.callbacks:R[write to console]: =\n",
            "WARNING:rpy2.rinterface_lib.callbacks:R[write to console]: =\n",
            "WARNING:rpy2.rinterface_lib.callbacks:R[write to console]: =\n",
            "WARNING:rpy2.rinterface_lib.callbacks:R[write to console]: =\n",
            "WARNING:rpy2.rinterface_lib.callbacks:R[write to console]: =\n",
            "WARNING:rpy2.rinterface_lib.callbacks:R[write to console]: =\n",
            "WARNING:rpy2.rinterface_lib.callbacks:R[write to console]: =\n",
            "WARNING:rpy2.rinterface_lib.callbacks:R[write to console]: =\n",
            "WARNING:rpy2.rinterface_lib.callbacks:R[write to console]: =\n",
            "WARNING:rpy2.rinterface_lib.callbacks:R[write to console]: =\n",
            "WARNING:rpy2.rinterface_lib.callbacks:R[write to console]: =\n",
            "WARNING:rpy2.rinterface_lib.callbacks:R[write to console]: =\n",
            "WARNING:rpy2.rinterface_lib.callbacks:R[write to console]: =\n",
            "WARNING:rpy2.rinterface_lib.callbacks:R[write to console]: =\n",
            "WARNING:rpy2.rinterface_lib.callbacks:R[write to console]: =\n",
            "WARNING:rpy2.rinterface_lib.callbacks:R[write to console]: =\n",
            "WARNING:rpy2.rinterface_lib.callbacks:R[write to console]: =\n",
            "WARNING:rpy2.rinterface_lib.callbacks:R[write to console]: =\n",
            "WARNING:rpy2.rinterface_lib.callbacks:R[write to console]: =\n",
            "WARNING:rpy2.rinterface_lib.callbacks:R[write to console]: =\n",
            "WARNING:rpy2.rinterface_lib.callbacks:R[write to console]: \n",
            "\n",
            "WARNING:rpy2.rinterface_lib.callbacks:R[write to console]: downloaded 508 KB\n",
            "\n",
            "\n",
            "WARNING:rpy2.rinterface_lib.callbacks:R[write to console]: \n",
            "\n",
            "WARNING:rpy2.rinterface_lib.callbacks:R[write to console]: \n",
            "WARNING:rpy2.rinterface_lib.callbacks:R[write to console]: The downloaded source packages are in\n",
            "\t‘/tmp/RtmpEvZqw7/downloaded_packages’\n",
            "WARNING:rpy2.rinterface_lib.callbacks:R[write to console]: \n",
            "WARNING:rpy2.rinterface_lib.callbacks:R[write to console]: \n",
            "\n",
            "WARNING:rpy2.rinterface_lib.callbacks:R[write to console]: \n",
            "Attaching package: ‘gplots’\n",
            "\n",
            "\n",
            "WARNING:rpy2.rinterface_lib.callbacks:R[write to console]: The following object is masked from ‘package:stats’:\n",
            "\n",
            "    lowess\n",
            "\n",
            "\n"
          ]
        }
      ]
    },
    {
      "cell_type": "markdown",
      "source": [
        "Краткое описание данных\n",
        "\n",
        "Fecal coliform counts (represented as the log10 of organisms per 100 ml) in the Illinois River between seasons (summer, fall, winter and spring) across six years (data from Millard and Neerchal, 2001)."
      ],
      "metadata": {
        "id": "G919oUSU-DnT"
      }
    },
    {
      "cell_type": "code",
      "source": [
        "%%R\n",
        "dat <- data.frame( Year = c(1971,1972,1973,1974,1975,1976),\n",
        "                   Summer = c(2.00, 2.34, 2.48, 2.63, 2.81, 3.20),\n",
        "                   Fall = c(1.45, 2.08, 2.32, 2.45, 2.70, 3.04),\n",
        "                   Winter = c(1.45, 1.76, 2.08, 2.36, 2.49, 2.70),\n",
        "                   Spring = c(1.34, 1.72, 2.04, 2.15, 2.51, 3.11))"
      ],
      "metadata": {
        "id": "Va2RWHm59LR_"
      },
      "execution_count": null,
      "outputs": []
    },
    {
      "cell_type": "code",
      "source": [
        "%%R\n",
        "dat.long <- gather(dat, key = \"Season\", value=\"Value\", -Year)"
      ],
      "metadata": {
        "id": "mdfB_Kk89YPo"
      },
      "execution_count": null,
      "outputs": []
    },
    {
      "cell_type": "code",
      "source": [
        "%%R\n",
        "print(dat)\n",
        "print(dat.long)"
      ],
      "metadata": {
        "colab": {
          "base_uri": "https://localhost:8080/"
        },
        "id": "V44Wygf59f9s",
        "outputId": "86352ee1-bded-4b55-b9da-b933e5b92425"
      },
      "execution_count": null,
      "outputs": [
        {
          "output_type": "stream",
          "name": "stdout",
          "text": [
            "  Year Summer Fall Winter Spring\n",
            "1 1971   2.00 1.45   1.45   1.34\n",
            "2 1972   2.34 2.08   1.76   1.72\n",
            "3 1973   2.48 2.32   2.08   2.04\n",
            "4 1974   2.63 2.45   2.36   2.15\n",
            "5 1975   2.81 2.70   2.49   2.51\n",
            "6 1976   3.20 3.04   2.70   3.11\n",
            "   Year Season Value\n",
            "1  1971 Summer  2.00\n",
            "2  1972 Summer  2.34\n",
            "3  1973 Summer  2.48\n",
            "4  1974 Summer  2.63\n",
            "5  1975 Summer  2.81\n",
            "6  1976 Summer  3.20\n",
            "7  1971   Fall  1.45\n",
            "8  1972   Fall  2.08\n",
            "9  1973   Fall  2.32\n",
            "10 1974   Fall  2.45\n",
            "11 1975   Fall  2.70\n",
            "12 1976   Fall  3.04\n",
            "13 1971 Winter  1.45\n",
            "14 1972 Winter  1.76\n",
            "15 1973 Winter  2.08\n",
            "16 1974 Winter  2.36\n",
            "17 1975 Winter  2.49\n",
            "18 1976 Winter  2.70\n",
            "19 1971 Spring  1.34\n",
            "20 1972 Spring  1.72\n",
            "21 1973 Spring  2.04\n",
            "22 1974 Spring  2.15\n",
            "23 1975 Spring  2.51\n",
            "24 1976 Spring  3.11\n"
          ]
        }
      ]
    },
    {
      "cell_type": "markdown",
      "source": [
        "ANOVA вручную"
      ],
      "metadata": {
        "id": "72A0vbxHClzj"
      }
    },
    {
      "cell_type": "code",
      "source": [
        "%%R\n",
        "\n",
        "plot( NULL, xlim= c(0.5,4.5), ylim=c(1, 3.5), axes=FALSE, xlab=NA,ylab=\"Fecal Coliform\")\n",
        "box()\n",
        "axis(1, labels = names(dat)[-1], at=c(1,2,3,4))\n",
        "axis(2, las=2, )\n",
        "points(rep(1,nrow(dat)), dat$Summer, pch=1)\n",
        "points(rep(2,nrow(dat)), dat$Fall, pch=2)\n",
        "points(rep(3,nrow(dat)), dat$Winter, pch=3)\n",
        "points(rep(4,nrow(dat)), dat$Spring, pch=4)\n",
        "\n",
        "\n",
        "abline(h = mean(dat.long$Value), lty=3)\n",
        "\n",
        "\n",
        "lines(c(.8,1.2), rep(mean(dat$Summer),2), col=\"red\" )\n",
        "lines(c(1.8,2.2), rep(mean(dat$Fall),2), col=\"red\" )\n",
        "lines(c(2.8,3.2), rep(mean(dat$Winter),2), col=\"red\" )\n",
        "lines(c(3.8,4.2), rep(mean(dat$Spring),2), col=\"red\" )"
      ],
      "metadata": {
        "colab": {
          "base_uri": "https://localhost:8080/",
          "height": 497
        },
        "id": "t5Hslkfp9l4c",
        "outputId": "ed8bb337-3b19-406f-f283-0c4b85dfb6be"
      },
      "execution_count": null,
      "outputs": [
        {
          "output_type": "display_data",
          "data": {
            "image/png": "[encoded data removed]"
          },
          "metadata": {}
        }
      ]
    },
    {
      "cell_type": "code",
      "source": [
        "%%R\n",
        "\n",
        "SSE.m <- sum( (dat.long$Value - mean(dat.long$Value))^2 ) \n",
        "SSE <- sum( (dat$Summer - mean(dat$Summer))^2 +\n",
        "            (dat$Fall - mean(dat$Fall))^2 +\n",
        "            (dat$Winter - mean(dat$Winter))^2 + \n",
        "            (dat$Spring - mean(dat$Spring))^2 )  \n",
        "SSR <- SSE.m - SSE\n",
        "MSR <- SSR / 3   # (p - 1) or 3 degrees of freedom\n",
        "MSE <- SSE / 20  # (n - p) or 20 degrees of freedom\n",
        "Fratio <- MSR/MSE\n",
        "p.val  <- pf(Fratio, 3, 20,lower.tail=FALSE)"
      ],
      "metadata": {
        "id": "oSjl8zxV9x9q"
      },
      "execution_count": null,
      "outputs": []
    },
    {
      "cell_type": "markdown",
      "source": [
        "Исследование средних"
      ],
      "metadata": {
        "id": "aStkYoO_CqJ2"
      }
    },
    {
      "cell_type": "code",
      "source": [
        "%%R\n",
        "plotmeans(Value ~ Season, dat.long)"
      ],
      "metadata": {
        "colab": {
          "base_uri": "https://localhost:8080/",
          "height": 497
        },
        "id": "DbHEu2W3_mnO",
        "outputId": "a0c145a7-78c4-4484-b517-8b9933cb9843"
      },
      "execution_count": null,
      "outputs": [
        {
          "output_type": "display_data",
          "data": {
            "image/png": "[encoded data removed]"
          },
          "metadata": {}
        }
      ]
    },
    {
      "cell_type": "code",
      "source": [
        "%%R\n",
        "summary(aov(Value ~ Season, dat.long))"
      ],
      "metadata": {
        "colab": {
          "base_uri": "https://localhost:8080/"
        },
        "id": "Iqw_vOSN-Td8",
        "outputId": "34799809-d19f-4062-8e3b-09cc0b693950"
      },
      "execution_count": null,
      "outputs": [
        {
          "output_type": "stream",
          "name": "stdout",
          "text": [
            "            Df Sum Sq Mean Sq F value Pr(>F)\n",
            "Season       3  0.767  0.2555   0.956  0.433\n",
            "Residuals   20  5.348  0.2674               \n"
          ]
        }
      ]
    },
    {
      "cell_type": "markdown",
      "source": [
        "Парные сравнения"
      ],
      "metadata": {
        "id": "SiT9t9cACtvh"
      }
    },
    {
      "cell_type": "code",
      "source": [
        "%%R\n",
        "TukeyHSD(aov(Value ~ Season, dat.long))\n",
        "\n",
        "plot(TukeyHSD(aov(Value ~ Season, dat.long)))"
      ],
      "metadata": {
        "colab": {
          "base_uri": "https://localhost:8080/",
          "height": 497
        },
        "id": "qIw8N5cJ_Lzn",
        "outputId": "b45407c5-20a7-4482-9049-dfe8a53ef839"
      },
      "execution_count": null,
      "outputs": [
        {
          "output_type": "display_data",
          "data": {
            "image/png": "[encoded data removed]"
          },
          "metadata": {}
        }
      ]
    },
    {
      "cell_type": "markdown",
      "source": [
        "Двухфакторный анализ"
      ],
      "metadata": {
        "id": "xEqCo5i5Cw8r"
      }
    },
    {
      "cell_type": "code",
      "source": [
        "%%R\n",
        "\n",
        "set.seed(321)\n",
        "datr.long <- data.frame( Year   = rep(rep(c(1971,1972,1973,1974,1975,1976),each=3),4),\n",
        "                         Season = rep(c(\"Summer\",\"Fall\",\"Winter\",\"Spring\"),each=18),\n",
        "                         Value  = rep(dat.long$Value,each=3) + rnorm(72,0,0.1))\n",
        "\n",
        "datr.long"
      ],
      "metadata": {
        "colab": {
          "base_uri": "https://localhost:8080/"
        },
        "id": "tn--yzr0AOXa",
        "outputId": "009a1995-80ca-458a-bc14-bef71e201d17"
      },
      "execution_count": null,
      "outputs": [
        {
          "output_type": "stream",
          "name": "stdout",
          "text": [
            "   Year Season    Value\n",
            "1  1971 Summer 2.170490\n",
            "2  1971 Summer 1.928796\n",
            "3  1971 Summer 1.972202\n",
            "4  1972 Summer 2.328035\n",
            "5  1972 Summer 2.327604\n",
            "6  1972 Summer 2.366818\n",
            "7  1973 Summer 2.552684\n",
            "8  1973 Summer 2.503314\n",
            "9  1973 Summer 2.513911\n",
            "10 1974 Summer 2.574809\n",
            "11 1974 Summer 2.664770\n",
            "12 1974 Summer 2.778459\n",
            "13 1975 Summer 2.828833\n",
            "14 1975 Summer 3.054326\n",
            "15 1975 Summer 2.694656\n",
            "16 1976 Summer 3.119533\n",
            "17 1976 Summer 3.245607\n",
            "18 1976 Summer 3.242033\n",
            "19 1971   Fall 1.507758\n",
            "20 1971   Fall 1.494636\n",
            "21 1971   Fall 1.541726\n",
            "22 1972   Fall 2.069294\n",
            "23 1972   Fall 2.178834\n",
            "24 1972   Fall 1.972776\n",
            "25 1973   Fall 2.244198\n",
            "26 1973   Fall 2.329500\n",
            "27 1973   Fall 2.086907\n",
            "28 1974   Fall 2.491752\n",
            "29 1974   Fall 2.337967\n",
            "30 1974   Fall 2.402532\n",
            "31 1975   Fall 2.546959\n",
            "32 1975   Fall 2.741571\n",
            "33 1975   Fall 2.763420\n",
            "34 1976   Fall 3.163085\n",
            "35 1976   Fall 3.024544\n",
            "36 1976   Fall 3.051454\n",
            "37 1971 Winter 1.227374\n",
            "38 1971 Winter 1.613579\n",
            "39 1971 Winter 1.434068\n",
            "40 1972 Winter 1.762827\n",
            "41 1972 Winter 1.606335\n",
            "42 1972 Winter 1.767816\n",
            "43 1973 Winter 2.105040\n",
            "44 1973 Winter 2.104409\n",
            "45 1973 Winter 2.159974\n",
            "46 1974 Winter 2.394141\n",
            "47 1974 Winter 2.385872\n",
            "48 1974 Winter 2.455388\n",
            "49 1975 Winter 2.603641\n",
            "50 1975 Winter 2.391571\n",
            "51 1975 Winter 2.399035\n",
            "52 1976 Winter 2.611091\n",
            "53 1976 Winter 2.675066\n",
            "54 1976 Winter 2.732085\n",
            "55 1971 Spring 1.273463\n",
            "56 1971 Spring 1.239108\n",
            "57 1971 Spring 1.374120\n",
            "58 1972 Spring 1.758840\n",
            "59 1972 Spring 1.897016\n",
            "60 1972 Spring 1.741266\n",
            "61 1973 Spring 2.186202\n",
            "62 1973 Spring 2.045516\n",
            "63 1973 Spring 2.164818\n",
            "64 1974 Spring 2.050196\n",
            "65 1974 Spring 2.267091\n",
            "66 1974 Spring 1.900342\n",
            "67 1975 Spring 2.470685\n",
            "68 1975 Spring 2.493656\n",
            "69 1975 Spring 2.580882\n",
            "70 1976 Spring 2.993772\n",
            "71 1976 Spring 3.010744\n",
            "72 1976 Spring 3.072795\n"
          ]
        }
      ]
    },
    {
      "cell_type": "code",
      "source": [
        "%%R\n",
        "boxplot(Value ~ Year, dat.long)\n",
        "boxplot(Value ~ Season, dat.long)"
      ],
      "metadata": {
        "colab": {
          "base_uri": "https://localhost:8080/",
          "height": 977
        },
        "id": "j8WXaT6QAelG",
        "outputId": "7c9fc21e-4d06-429f-9eea-fbed57e13bf6"
      },
      "execution_count": null,
      "outputs": [
        {
          "output_type": "display_data",
          "data": {
            "image/png": "[encoded data removed]"
          },
          "metadata": {}
        },
        {
          "output_type": "display_data",
          "data": {
            "image/png": "[encoded data removed]"
          },
          "metadata": {}
        }
      ]
    },
    {
      "cell_type": "code",
      "source": [
        "%%R\n",
        "\n",
        "summary(aov(Value ~ Season + as.factor(Year), dat.long))"
      ],
      "metadata": {
        "colab": {
          "base_uri": "https://localhost:8080/"
        },
        "id": "tG_NOew2Am5l",
        "outputId": "fb416e51-264f-4e46-8473-f4e6ea6c8b1d"
      },
      "execution_count": null,
      "outputs": [
        {
          "output_type": "stream",
          "name": "stdout",
          "text": [
            "                Df Sum Sq Mean Sq F value   Pr(>F)    \n",
            "Season           3  0.767  0.2555   17.57 3.58e-05 ***\n",
            "as.factor(Year)  5  5.130  1.0260   70.56 6.98e-10 ***\n",
            "Residuals       15  0.218  0.0145                     \n",
            "---\n",
            "Signif. codes:  0 ‘***’ 0.001 ‘**’ 0.01 ‘*’ 0.05 ‘.’ 0.1 ‘ ’ 1\n"
          ]
        }
      ]
    },
    {
      "cell_type": "code",
      "source": [
        "%%R\n",
        "\n",
        "res <- residuals(lm(Value ~ as.factor(Year), dat.long))\n",
        "boxplot(res ~ dat.long$Season)"
      ],
      "metadata": {
        "colab": {
          "base_uri": "https://localhost:8080/",
          "height": 497
        },
        "id": "EH3kY6g7AuEV",
        "outputId": "cacf7659-82ee-4cbc-8709-054b9edaeb88"
      },
      "execution_count": null,
      "outputs": [
        {
          "output_type": "display_data",
          "data": {
            "image/png": "[encoded data removed]"
          },
          "metadata": {}
        }
      ]
    },
    {
      "cell_type": "code",
      "source": [
        "%%R\n",
        "coefficients(lm(Value ~ Season + as.factor(Year), dat.long))"
      ],
      "metadata": {
        "colab": {
          "base_uri": "https://localhost:8080/"
        },
        "id": "TzlGa3bwA3xu",
        "outputId": "3bb94f00-b446-4db4-c256-9d4b231c769d"
      },
      "execution_count": null,
      "outputs": [
        {
          "output_type": "stream",
          "name": "stdout",
          "text": [
            "        (Intercept)        SeasonSpring        SeasonSummer        SeasonWinter \n",
            "          1.5995833          -0.1950000           0.2366667          -0.2000000 \n",
            "as.factor(Year)1972 as.factor(Year)1973 as.factor(Year)1974 as.factor(Year)1975 \n",
            "          0.4150000           0.6700000           0.8375000           1.0675000 \n",
            "as.factor(Year)1976 \n",
            "          1.4525000 \n"
          ]
        }
      ]
    },
    {
      "cell_type": "markdown",
      "source": [
        "$Coliform_{log} = 1.60 - 0.19 Spring +0.24 Summer -0.20 Winter + \\\\ 0.42 Year_{1972} +0.67 Year_{1973} +0.840 Year_{1974} + 1.07 Year_{1975} + 1.45 Year_{1976}$"
      ],
      "metadata": {
        "id": "D1_8WBoyBF0q"
      }
    },
    {
      "cell_type": "markdown",
      "source": [
        "Неаддитивные модели"
      ],
      "metadata": {
        "id": "a5AGQGKiC3cC"
      }
    },
    {
      "cell_type": "code",
      "source": [
        "%%R\n",
        "\n",
        "with(datr.long, interaction.plot(as.factor(Year), Season, Value))"
      ],
      "metadata": {
        "colab": {
          "base_uri": "https://localhost:8080/",
          "height": 497
        },
        "id": "5pMI2d6jBAvA",
        "outputId": "fd40233d-7f00-4ffd-b595-1c546f641d27"
      },
      "execution_count": null,
      "outputs": [
        {
          "output_type": "display_data",
          "data": {
            "image/png": "[encoded data removed]"
          },
          "metadata": {}
        }
      ]
    },
    {
      "cell_type": "markdown",
      "source": [
        "Ищем параллельные линии, если их нет, то тогда явно есть взаимодействие между факторами"
      ],
      "metadata": {
        "id": "Mxo7OKRJBlXw"
      }
    },
    {
      "cell_type": "code",
      "source": [
        "%%R\n",
        "\n",
        "summary(aov(Value ~ Season + as.factor(Year) + as.factor(Year):Season, datr.long))"
      ],
      "metadata": {
        "colab": {
          "base_uri": "https://localhost:8080/"
        },
        "id": "jDMbHFirBdUt",
        "outputId": "6234af22-90ef-4c5c-c8a1-f6eecdfb49dd"
      },
      "execution_count": null,
      "outputs": [
        {
          "output_type": "stream",
          "name": "stdout",
          "text": [
            "                       Df Sum Sq Mean Sq F value   Pr(>F)    \n",
            "Season                  3  2.628  0.8759  86.951  < 2e-16 ***\n",
            "as.factor(Year)         5 14.947  2.9895 296.772  < 2e-16 ***\n",
            "Season:as.factor(Year) 15  0.632  0.0422   4.186 7.48e-05 ***\n",
            "Residuals              48  0.484  0.0101                     \n",
            "---\n",
            "Signif. codes:  0 ‘***’ 0.001 ‘**’ 0.01 ‘*’ 0.05 ‘.’ 0.1 ‘ ’ 1\n"
          ]
        }
      ]
    },
    {
      "cell_type": "code",
      "source": [
        "%%R\n",
        "\n",
        "M1 <- aov(Value ~ Season + as.factor(Year), dat.long)\n",
        "model.tables(M1)"
      ],
      "metadata": {
        "colab": {
          "base_uri": "https://localhost:8080/"
        },
        "id": "wt7L-U6FBx_x",
        "outputId": "f8f34407-0747-4c6a-d8b2-0c3baeda4510"
      },
      "execution_count": null,
      "outputs": [
        {
          "output_type": "stream",
          "name": "stdout",
          "text": [
            "Tables of effects\n",
            "\n",
            " Season \n",
            "Season\n",
            "    Fall   Spring   Summer   Winter \n",
            " 0.03958 -0.15542  0.27625 -0.16042 \n",
            "\n",
            " as.factor(Year) \n",
            "as.factor(Year)\n",
            "   1971    1972    1973    1974    1975    1976 \n",
            "-0.7404 -0.3254 -0.0704  0.0971  0.3271  0.7121 \n"
          ]
        }
      ]
    },
    {
      "cell_type": "code",
      "source": [],
      "metadata": {
        "id": "4StaPuUuCCkc"
      },
      "execution_count": null,
      "outputs": []
    }
  ]
}