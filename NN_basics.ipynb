{
  "nbformat": 4,
  "nbformat_minor": 0,
  "metadata": {
    "colab": {
      "name": "NN_basics.ipynb",
      "provenance": [],
      "authorship_tag": "ABX9TyM6A8e7tOXAixRnV1HSzHLg",
      "include_colab_link": true
    },
    "kernelspec": {
      "name": "python3",
      "display_name": "Python 3"
    },
    "language_info": {
      "name": "python"
    }
  },
  "cells": [
    {
      "cell_type": "markdown",
      "metadata": {
        "id": "view-in-github",
        "colab_type": "text"
      },
      "source": [
        "<a href=\"https://colab.research.google.com/github/antonsysoev/ktmi_pm/blob/main/NN_basics.ipynb\" target=\"_parent\"><img src=\"https://colab.research.google.com/assets/colab-badge.svg\" alt=\"Open In Colab\"/></a>"
      ]
    },
    {
      "cell_type": "code",
      "metadata": {
        "colab": {
          "base_uri": "https://localhost:8080/"
        },
        "id": "5gL0U5AXCZ8t",
        "outputId": "e356e95d-166a-4e2c-f383-b0a24e307335"
      },
      "source": [
        "%load_ext rpy2.ipython"
      ],
      "execution_count": 3,
      "outputs": [
        {
          "output_type": "stream",
          "name": "stdout",
          "text": [
            "The rpy2.ipython extension is already loaded. To reload it, use:\n",
            "  %reload_ext rpy2.ipython\n"
          ]
        }
      ]
    },
    {
      "cell_type": "code",
      "metadata": {
        "colab": {
          "base_uri": "https://localhost:8080/"
        },
        "id": "fp6NeJVvE7nh",
        "outputId": "b36d0012-d510-4e60-af99-d569536d041d"
      },
      "source": [
        "%%R\n",
        "install.packages(\"nnet\")\n",
        "library(nnet)"
      ],
      "execution_count": 4,
      "outputs": [
        {
          "output_type": "stream",
          "name": "stderr",
          "text": [
            "R[write to console]: Installing package into ‘/usr/local/lib/R/site-library’\n",
            "(as ‘lib’ is unspecified)\n",
            "\n",
            "R[write to console]: trying URL 'https://cran.rstudio.com/src/contrib/nnet_7.3-16.tar.gz'\n",
            "\n",
            "R[write to console]: Content type 'application/x-gzip'\n",
            "R[write to console]:  length 29097 bytes (28 KB)\n",
            "\n",
            "R[write to console]: =\n",
            "R[write to console]: =\n",
            "R[write to console]: =\n",
            "R[write to console]: =\n",
            "R[write to console]: =\n",
            "R[write to console]: =\n",
            "R[write to console]: =\n",
            "R[write to console]: =\n",
            "R[write to console]: =\n",
            "R[write to console]: =\n",
            "R[write to console]: =\n",
            "R[write to console]: =\n",
            "R[write to console]: =\n",
            "R[write to console]: =\n",
            "R[write to console]: =\n",
            "R[write to console]: =\n",
            "R[write to console]: =\n",
            "R[write to console]: =\n",
            "R[write to console]: =\n",
            "R[write to console]: =\n",
            "R[write to console]: =\n",
            "R[write to console]: =\n",
            "R[write to console]: =\n",
            "R[write to console]: =\n",
            "R[write to console]: =\n",
            "R[write to console]: =\n",
            "R[write to console]: =\n",
            "R[write to console]: =\n",
            "R[write to console]: =\n",
            "R[write to console]: =\n",
            "R[write to console]: =\n",
            "R[write to console]: =\n",
            "R[write to console]: =\n",
            "R[write to console]: =\n",
            "R[write to console]: =\n",
            "R[write to console]: =\n",
            "R[write to console]: =\n",
            "R[write to console]: =\n",
            "R[write to console]: =\n",
            "R[write to console]: =\n",
            "R[write to console]: =\n",
            "R[write to console]: =\n",
            "R[write to console]: =\n",
            "R[write to console]: =\n",
            "R[write to console]: =\n",
            "R[write to console]: =\n",
            "R[write to console]: =\n",
            "R[write to console]: =\n",
            "R[write to console]: =\n",
            "R[write to console]: =\n",
            "R[write to console]: \n",
            "\n",
            "R[write to console]: downloaded 28 KB\n",
            "\n",
            "\n",
            "R[write to console]: \n",
            "\n",
            "R[write to console]: \n",
            "R[write to console]: The downloaded source packages are in\n",
            "\t‘/tmp/RtmpFZWpKP/downloaded_packages’\n",
            "R[write to console]: \n",
            "R[write to console]: \n",
            "\n"
          ]
        }
      ]
    },
    {
      "cell_type": "markdown",
      "metadata": {
        "id": "EWdalCpoCazw"
      },
      "source": [
        "1. Начнем с создания набора данных. Установим seed на 42, сгенерируем 200 случайных точек между -10 и 10 и сохраним их в векторе с именем X. Затем создадим вектор с именем Y, содержащий значение sin(x). Нейронные сети гораздо более гибкие, чем большинство алгоритмов регрессии, и могут с легкостью подгонять сложные функции. Самая большая сложность заключается в том, чтобы найти подходящую структуру сети, соответствующую ситуации."
      ]
    },
    {
      "cell_type": "code",
      "metadata": {
        "id": "hqxmmnUACd-D"
      },
      "source": [
        ""
      ],
      "execution_count": null,
      "outputs": []
    },
    {
      "cell_type": "markdown",
      "metadata": {
        "id": "9lG03E4mCepQ"
      },
      "source": [
        "2. Сеть состоит из трех компонентов: сети нейронов, веса каждой связи между нейронами и функции активации каждого нейрона. Будем использовать логистическую функцию активации, что является настройкой по умолчанию для пакета nnet. Мы берем одно число в качестве входа нашей нейронной сети и хотим получить одно число в качестве выхода, поэтому размер входного и выходного слоя равен единице. Для скрытого слоя мы начнем с трех нейронов. Хорошей практикой является рандомизация начальных весов, поэтому создадим вектор из 10 случайных значений, выбранных в интервале [-1,1]."
      ]
    },
    {
      "cell_type": "code",
      "metadata": {
        "id": "ITZwZVMzC16k"
      },
      "source": [
        ""
      ],
      "execution_count": null,
      "outputs": []
    },
    {
      "cell_type": "markdown",
      "metadata": {
        "id": "8uUdaVrfC2oa"
      },
      "source": [
        "3. Нейронные сети имеют сильную тенденцию к чрезмерной подгонке данных, то есть они становятся действительно хорошими в описании отношений между значениями в вашем наборе данных, но не эффективны с данными, которые не использовались для обучения вашей модели. Как следствие, необходимо провести кросс-валидацию модели. Установите значение seed равным 42, затем создайте обучающий набор, содержащий 75% значений из исходного набора данных, и тестовый набор, содержащий остальные данные."
      ]
    },
    {
      "cell_type": "code",
      "metadata": {
        "id": "qzkEzdT8DD-J"
      },
      "source": [
        ""
      ],
      "execution_count": null,
      "outputs": []
    },
    {
      "cell_type": "markdown",
      "metadata": {
        "id": "px_TggYHDINA"
      },
      "source": [
        "4. Загрузите пакет nnet и используйте одноименную функцию для создания модели. Передайте веса через аргумент Wts и установите аргумент maxit равным 50. Мы хотим подобрать функцию, которая может иметь на выходе несколько возможных значений. Для этого установите аргумент linout в true. "
      ]
    },
    {
      "cell_type": "code",
      "metadata": {
        "id": "B5sr74ZDDRz9"
      },
      "source": [
        ""
      ],
      "execution_count": null,
      "outputs": []
    },
    {
      "cell_type": "markdown",
      "metadata": {
        "id": "hzUHOieHDT9R"
      },
      "source": [
        "5. Спрогнозируйте выход для тестового набора и вычислите RMSE ваших прогнозов. Постройте график функции sin(x), а затем график ваших прогнозов."
      ]
    },
    {
      "cell_type": "code",
      "metadata": {
        "id": "IzSFlJFMDaSL"
      },
      "source": [
        ""
      ],
      "execution_count": null,
      "outputs": []
    },
    {
      "cell_type": "markdown",
      "metadata": {
        "id": "lCLvgd75DbXA"
      },
      "source": [
        "6. Количество нейронов в скрытом слое, а также количество используемых скрытых слоев оказывает большое влияние на эффективность модели. Повторите упражнения с третьего по пятое, но на этот раз используйте скрытый слой с семью нейронами и инициируйте случайным образом 22 веса."
      ]
    },
    {
      "cell_type": "code",
      "metadata": {
        "id": "VOSuQMR7Dkqx"
      },
      "source": [
        ""
      ],
      "execution_count": null,
      "outputs": []
    },
    {
      "cell_type": "markdown",
      "metadata": {
        "id": "Hke1FLaRDlme"
      },
      "source": [
        "7. Теперь давайте используем нейронные сети для решения задачи классификации, поэтому давайте загрузим набор данных iris! Хорошей практикой является нормализация входных данных, чтобы унифицировать поведение вашей модели в различных диапазонах значений и ускорить обучение. Нормализуйте каждый фактор так, чтобы его среднее значение было равно нулю, а стандартное отклонение - 1, затем создайте обучающий и тестовый наборы."
      ]
    },
    {
      "cell_type": "code",
      "metadata": {
        "id": "GPzUPZcBD757"
      },
      "source": [
        ""
      ],
      "execution_count": null,
      "outputs": []
    },
    {
      "cell_type": "markdown",
      "metadata": {
        "id": "JyBly7npD8gf"
      },
      "source": [
        "8. Используйте nnet() и используйте скрытый слой из десяти нейронов для создания модели. Мы хотим подогнать функцию, которая имеет конечное значение на выходе. Для этого установите аргумент linout в true. Посмотрите на структуру вашей модели. В задаче классификации выходом обычно является фактор, который кодируется как несколько фиктивных переменных, а не одно числовое значение. Как следствие, выходной слой имеет на один нейрон меньше, чем количество уровней выходного фактора.\n",
        "\n",
        "clust.model<-nnet(Species~.,size=10,Wts=runif(83, -1, 1),data=clust.train)"
      ]
    },
    {
      "cell_type": "code",
      "metadata": {
        "id": "Nr1klXdWEUPv"
      },
      "source": [
        ""
      ],
      "execution_count": null,
      "outputs": []
    },
    {
      "cell_type": "markdown",
      "metadata": {
        "id": "hDFioPk7EVN4"
      },
      "source": [
        "9. Сделайте прогноз на основе значений тестового набора."
      ]
    },
    {
      "cell_type": "code",
      "metadata": {
        "id": "RUPWlUZ_Ec0x"
      },
      "source": [
        ""
      ],
      "execution_count": null,
      "outputs": []
    },
    {
      "cell_type": "markdown",
      "metadata": {
        "id": "59AiUixaEdkS"
      },
      "source": [
        "10. Создайте таблицу соответствия (confusion matrix) вашего предсказания и вычислите точность модели."
      ]
    },
    {
      "cell_type": "code",
      "metadata": {
        "id": "M8WG9ppkEqHL"
      },
      "source": [
        ""
      ],
      "execution_count": null,
      "outputs": []
    }
  ]
}