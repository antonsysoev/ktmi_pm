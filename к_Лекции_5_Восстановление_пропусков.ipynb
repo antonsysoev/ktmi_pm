{
  "cells": [
    {
      "cell_type": "markdown",
      "metadata": {
        "id": "view-in-github",
        "colab_type": "text"
      },
      "source": [
        "<a href=\"https://colab.research.google.com/github/antonsysoev/ktmi_pm/blob/%D0%9F%D0%9C-19/%D0%BA_%D0%9B%D0%B5%D0%BA%D1%86%D0%B8%D0%B8_5_%D0%92%D0%BE%D1%81%D1%81%D1%82%D0%B0%D0%BD%D0%BE%D0%B2%D0%BB%D0%B5%D0%BD%D0%B8%D0%B5_%D0%BF%D1%80%D0%BE%D0%BF%D1%83%D1%81%D0%BA%D0%BE%D0%B2.ipynb\" target=\"_parent\"><img src=\"https://colab.research.google.com/assets/colab-badge.svg\" alt=\"Open In Colab\"/></a>"
      ]
    },
    {
      "cell_type": "markdown",
      "source": [
        "Восстановление пропущенных значений"
      ],
      "metadata": {
        "id": "byDqi4GprupG"
      }
    },
    {
      "cell_type": "code",
      "execution_count": 1,
      "metadata": {
        "id": "jYwPO85cq7_F"
      },
      "outputs": [],
      "source": [
        "%load_ext rpy2.ipython"
      ]
    },
    {
      "cell_type": "code",
      "execution_count": 2,
      "metadata": {
        "colab": {
          "base_uri": "https://localhost:8080/"
        },
        "id": "TznSzTF-sHXh",
        "outputId": "ffba59ec-5421-4414-d824-64815e18f64c"
      },
      "outputs": [
        {
          "output_type": "stream",
          "name": "stderr",
          "text": [
            "WARNING:rpy2.rinterface_lib.callbacks:R[write to console]: Installing package into ‘/usr/local/lib/R/site-library’\n",
            "(as ‘lib’ is unspecified)\n",
            "\n",
            "WARNING:rpy2.rinterface_lib.callbacks:R[write to console]: also installing the dependency ‘Rcpp’\n",
            "\n",
            "\n",
            "WARNING:rpy2.rinterface_lib.callbacks:R[write to console]: trying URL 'https://cran.rstudio.com/src/contrib/Rcpp_1.0.9.tar.gz'\n",
            "\n",
            "WARNING:rpy2.rinterface_lib.callbacks:R[write to console]: Content type 'application/x-gzip'\n",
            "WARNING:rpy2.rinterface_lib.callbacks:R[write to console]:  length 2957812 bytes (2.8 MB)\n",
            "\n",
            "WARNING:rpy2.rinterface_lib.callbacks:R[write to console]: =\n",
            "WARNING:rpy2.rinterface_lib.callbacks:R[write to console]: =\n",
            "WARNING:rpy2.rinterface_lib.callbacks:R[write to console]: =\n",
            "WARNING:rpy2.rinterface_lib.callbacks:R[write to console]: =\n",
            "WARNING:rpy2.rinterface_lib.callbacks:R[write to console]: =\n",
            "WARNING:rpy2.rinterface_lib.callbacks:R[write to console]: =\n",
            "WARNING:rpy2.rinterface_lib.callbacks:R[write to console]: =\n",
            "WARNING:rpy2.rinterface_lib.callbacks:R[write to console]: =\n",
            "WARNING:rpy2.rinterface_lib.callbacks:R[write to console]: =\n",
            "WARNING:rpy2.rinterface_lib.callbacks:R[write to console]: =\n",
            "WARNING:rpy2.rinterface_lib.callbacks:R[write to console]: =\n",
            "WARNING:rpy2.rinterface_lib.callbacks:R[write to console]: =\n",
            "WARNING:rpy2.rinterface_lib.callbacks:R[write to console]: =\n",
            "WARNING:rpy2.rinterface_lib.callbacks:R[write to console]: =\n",
            "WARNING:rpy2.rinterface_lib.callbacks:R[write to console]: =\n",
            "WARNING:rpy2.rinterface_lib.callbacks:R[write to console]: =\n",
            "WARNING:rpy2.rinterface_lib.callbacks:R[write to console]: =\n",
            "WARNING:rpy2.rinterface_lib.callbacks:R[write to console]: =\n",
            "WARNING:rpy2.rinterface_lib.callbacks:R[write to console]: =\n",
            "WARNING:rpy2.rinterface_lib.callbacks:R[write to console]: =\n",
            "WARNING:rpy2.rinterface_lib.callbacks:R[write to console]: =\n",
            "WARNING:rpy2.rinterface_lib.callbacks:R[write to console]: =\n",
            "WARNING:rpy2.rinterface_lib.callbacks:R[write to console]: =\n",
            "WARNING:rpy2.rinterface_lib.callbacks:R[write to console]: =\n",
            "WARNING:rpy2.rinterface_lib.callbacks:R[write to console]: =\n",
            "WARNING:rpy2.rinterface_lib.callbacks:R[write to console]: =\n",
            "WARNING:rpy2.rinterface_lib.callbacks:R[write to console]: =\n",
            "WARNING:rpy2.rinterface_lib.callbacks:R[write to console]: =\n",
            "WARNING:rpy2.rinterface_lib.callbacks:R[write to console]: =\n",
            "WARNING:rpy2.rinterface_lib.callbacks:R[write to console]: =\n",
            "WARNING:rpy2.rinterface_lib.callbacks:R[write to console]: =\n",
            "WARNING:rpy2.rinterface_lib.callbacks:R[write to console]: =\n",
            "WARNING:rpy2.rinterface_lib.callbacks:R[write to console]: =\n",
            "WARNING:rpy2.rinterface_lib.callbacks:R[write to console]: =\n",
            "WARNING:rpy2.rinterface_lib.callbacks:R[write to console]: =\n",
            "WARNING:rpy2.rinterface_lib.callbacks:R[write to console]: =\n",
            "WARNING:rpy2.rinterface_lib.callbacks:R[write to console]: =\n",
            "WARNING:rpy2.rinterface_lib.callbacks:R[write to console]: =\n",
            "WARNING:rpy2.rinterface_lib.callbacks:R[write to console]: =\n",
            "WARNING:rpy2.rinterface_lib.callbacks:R[write to console]: =\n",
            "WARNING:rpy2.rinterface_lib.callbacks:R[write to console]: =\n",
            "WARNING:rpy2.rinterface_lib.callbacks:R[write to console]: =\n",
            "WARNING:rpy2.rinterface_lib.callbacks:R[write to console]: =\n",
            "WARNING:rpy2.rinterface_lib.callbacks:R[write to console]: =\n",
            "WARNING:rpy2.rinterface_lib.callbacks:R[write to console]: =\n",
            "WARNING:rpy2.rinterface_lib.callbacks:R[write to console]: =\n",
            "WARNING:rpy2.rinterface_lib.callbacks:R[write to console]: =\n",
            "WARNING:rpy2.rinterface_lib.callbacks:R[write to console]: =\n",
            "WARNING:rpy2.rinterface_lib.callbacks:R[write to console]: =\n",
            "WARNING:rpy2.rinterface_lib.callbacks:R[write to console]: =\n",
            "WARNING:rpy2.rinterface_lib.callbacks:R[write to console]: \n",
            "\n",
            "WARNING:rpy2.rinterface_lib.callbacks:R[write to console]: downloaded 2.8 MB\n",
            "\n",
            "\n",
            "WARNING:rpy2.rinterface_lib.callbacks:R[write to console]: trying URL 'https://cran.rstudio.com/src/contrib/mice_3.14.0.tar.gz'\n",
            "\n",
            "WARNING:rpy2.rinterface_lib.callbacks:R[write to console]: Content type 'application/x-gzip'\n",
            "WARNING:rpy2.rinterface_lib.callbacks:R[write to console]:  length 792186 bytes (773 KB)\n",
            "\n",
            "WARNING:rpy2.rinterface_lib.callbacks:R[write to console]: =\n",
            "WARNING:rpy2.rinterface_lib.callbacks:R[write to console]: =\n",
            "WARNING:rpy2.rinterface_lib.callbacks:R[write to console]: =\n",
            "WARNING:rpy2.rinterface_lib.callbacks:R[write to console]: =\n",
            "WARNING:rpy2.rinterface_lib.callbacks:R[write to console]: =\n",
            "WARNING:rpy2.rinterface_lib.callbacks:R[write to console]: =\n",
            "WARNING:rpy2.rinterface_lib.callbacks:R[write to console]: =\n",
            "WARNING:rpy2.rinterface_lib.callbacks:R[write to console]: =\n",
            "WARNING:rpy2.rinterface_lib.callbacks:R[write to console]: =\n",
            "WARNING:rpy2.rinterface_lib.callbacks:R[write to console]: =\n",
            "WARNING:rpy2.rinterface_lib.callbacks:R[write to console]: =\n",
            "WARNING:rpy2.rinterface_lib.callbacks:R[write to console]: =\n",
            "WARNING:rpy2.rinterface_lib.callbacks:R[write to console]: =\n",
            "WARNING:rpy2.rinterface_lib.callbacks:R[write to console]: =\n",
            "WARNING:rpy2.rinterface_lib.callbacks:R[write to console]: =\n",
            "WARNING:rpy2.rinterface_lib.callbacks:R[write to console]: =\n",
            "WARNING:rpy2.rinterface_lib.callbacks:R[write to console]: =\n",
            "WARNING:rpy2.rinterface_lib.callbacks:R[write to console]: =\n",
            "WARNING:rpy2.rinterface_lib.callbacks:R[write to console]: =\n",
            "WARNING:rpy2.rinterface_lib.callbacks:R[write to console]: =\n",
            "WARNING:rpy2.rinterface_lib.callbacks:R[write to console]: =\n",
            "WARNING:rpy2.rinterface_lib.callbacks:R[write to console]: =\n",
            "WARNING:rpy2.rinterface_lib.callbacks:R[write to console]: =\n",
            "WARNING:rpy2.rinterface_lib.callbacks:R[write to console]: =\n",
            "WARNING:rpy2.rinterface_lib.callbacks:R[write to console]: =\n",
            "WARNING:rpy2.rinterface_lib.callbacks:R[write to console]: =\n",
            "WARNING:rpy2.rinterface_lib.callbacks:R[write to console]: =\n",
            "WARNING:rpy2.rinterface_lib.callbacks:R[write to console]: =\n",
            "WARNING:rpy2.rinterface_lib.callbacks:R[write to console]: =\n",
            "WARNING:rpy2.rinterface_lib.callbacks:R[write to console]: =\n",
            "WARNING:rpy2.rinterface_lib.callbacks:R[write to console]: =\n",
            "WARNING:rpy2.rinterface_lib.callbacks:R[write to console]: =\n",
            "WARNING:rpy2.rinterface_lib.callbacks:R[write to console]: =\n",
            "WARNING:rpy2.rinterface_lib.callbacks:R[write to console]: =\n",
            "WARNING:rpy2.rinterface_lib.callbacks:R[write to console]: =\n",
            "WARNING:rpy2.rinterface_lib.callbacks:R[write to console]: =\n",
            "WARNING:rpy2.rinterface_lib.callbacks:R[write to console]: =\n",
            "WARNING:rpy2.rinterface_lib.callbacks:R[write to console]: =\n",
            "WARNING:rpy2.rinterface_lib.callbacks:R[write to console]: =\n",
            "WARNING:rpy2.rinterface_lib.callbacks:R[write to console]: =\n",
            "WARNING:rpy2.rinterface_lib.callbacks:R[write to console]: =\n",
            "WARNING:rpy2.rinterface_lib.callbacks:R[write to console]: =\n",
            "WARNING:rpy2.rinterface_lib.callbacks:R[write to console]: =\n",
            "WARNING:rpy2.rinterface_lib.callbacks:R[write to console]: =\n",
            "WARNING:rpy2.rinterface_lib.callbacks:R[write to console]: =\n",
            "WARNING:rpy2.rinterface_lib.callbacks:R[write to console]: =\n",
            "WARNING:rpy2.rinterface_lib.callbacks:R[write to console]: =\n",
            "WARNING:rpy2.rinterface_lib.callbacks:R[write to console]: =\n",
            "WARNING:rpy2.rinterface_lib.callbacks:R[write to console]: =\n",
            "WARNING:rpy2.rinterface_lib.callbacks:R[write to console]: =\n",
            "WARNING:rpy2.rinterface_lib.callbacks:R[write to console]: \n",
            "\n",
            "WARNING:rpy2.rinterface_lib.callbacks:R[write to console]: downloaded 773 KB\n",
            "\n",
            "\n",
            "WARNING:rpy2.rinterface_lib.callbacks:R[write to console]: \n",
            "\n",
            "WARNING:rpy2.rinterface_lib.callbacks:R[write to console]: \n",
            "WARNING:rpy2.rinterface_lib.callbacks:R[write to console]: The downloaded source packages are in\n",
            "\t‘/tmp/Rtmp64caWA/downloaded_packages’\n",
            "WARNING:rpy2.rinterface_lib.callbacks:R[write to console]: \n",
            "WARNING:rpy2.rinterface_lib.callbacks:R[write to console]: \n",
            "\n",
            "WARNING:rpy2.rinterface_lib.callbacks:R[write to console]: \n",
            "Attaching package: ‘mice’\n",
            "\n",
            "\n",
            "WARNING:rpy2.rinterface_lib.callbacks:R[write to console]: The following object is masked from ‘package:stats’:\n",
            "\n",
            "    filter\n",
            "\n",
            "\n",
            "WARNING:rpy2.rinterface_lib.callbacks:R[write to console]: The following objects are masked from ‘package:base’:\n",
            "\n",
            "    cbind, rbind\n",
            "\n",
            "\n"
          ]
        }
      ],
      "source": [
        "%%R\n",
        "\n",
        "install.packages(\"mice\")\n",
        "\n",
        "\n",
        "library(mice)"
      ]
    },
    {
      "cell_type": "code",
      "execution_count": 3,
      "metadata": {
        "colab": {
          "base_uri": "https://localhost:8080/"
        },
        "id": "KbSUb-yfq9_Q",
        "outputId": "c66cf655-cdae-4698-f66b-5c19c5f45b1b"
      },
      "outputs": [
        {
          "output_type": "stream",
          "name": "stdout",
          "text": [
            "  Ozone Solar.R Wind Temp Month Day\n",
            "1    41     190  7.4   67     5   1\n",
            "2    36     118  8.0   72     5   2\n",
            "3    12     149 12.6   74     5   3\n",
            "4    18     313 11.5   62     5   4\n",
            "5    NA      NA 14.3   56     5   5\n",
            "6    28      NA 14.9   66     5   6\n",
            "     Ozone           Solar.R           Wind             Temp      \n",
            " Min.   :  1.00   Min.   :  7.0   Min.   : 1.700   Min.   :56.00  \n",
            " 1st Qu.: 18.00   1st Qu.:115.8   1st Qu.: 7.400   1st Qu.:72.00  \n",
            " Median : 31.50   Median :205.0   Median : 9.700   Median :79.00  \n",
            " Mean   : 42.13   Mean   :185.9   Mean   : 9.958   Mean   :77.88  \n",
            " 3rd Qu.: 63.25   3rd Qu.:258.8   3rd Qu.:11.500   3rd Qu.:85.00  \n",
            " Max.   :168.00   Max.   :334.0   Max.   :20.700   Max.   :97.00  \n",
            " NA's   :37       NA's   :7                                       \n",
            "     Month            Day      \n",
            " Min.   :5.000   Min.   : 1.0  \n",
            " 1st Qu.:6.000   1st Qu.: 8.0  \n",
            " Median :7.000   Median :16.0  \n",
            " Mean   :6.993   Mean   :15.8  \n",
            " 3rd Qu.:8.000   3rd Qu.:23.0  \n",
            " Max.   :9.000   Max.   :31.0  \n",
            "                               \n",
            "[1] 111\n"
          ]
        }
      ],
      "source": [
        "%%R\n",
        "\n",
        "data(airquality)\n",
        "print(head(airquality))\n",
        "print(summary(airquality))\n",
        "\n",
        "print(sum(complete.cases(airquality)))"
      ]
    },
    {
      "cell_type": "code",
      "execution_count": 4,
      "metadata": {
        "colab": {
          "base_uri": "https://localhost:8080/"
        },
        "id": "5MRzyPKTrTxt",
        "outputId": "76b9b86d-0cff-4dfe-d345-77ce379d1419"
      },
      "outputs": [
        {
          "output_type": "stream",
          "name": "stdout",
          "text": [
            "\n",
            " iter imp variable\n",
            "  1   1  Ozone  Solar.R\n",
            "  1   2  Ozone  Solar.R\n",
            "  1   3  Ozone  Solar.R\n",
            "  1   4  Ozone  Solar.R\n",
            "  1   5  Ozone  Solar.R\n",
            "  2   1  Ozone  Solar.R\n",
            "  2   2  Ozone  Solar.R\n",
            "  2   3  Ozone  Solar.R\n",
            "  2   4  Ozone  Solar.R\n",
            "  2   5  Ozone  Solar.R\n",
            "  3   1  Ozone  Solar.R\n",
            "  3   2  Ozone  Solar.R\n",
            "  3   3  Ozone  Solar.R\n",
            "  3   4  Ozone  Solar.R\n",
            "  3   5  Ozone  Solar.R\n",
            "  4   1  Ozone  Solar.R\n",
            "  4   2  Ozone  Solar.R\n",
            "  4   3  Ozone  Solar.R\n",
            "  4   4  Ozone  Solar.R\n",
            "  4   5  Ozone  Solar.R\n",
            "  5   1  Ozone  Solar.R\n",
            "  5   2  Ozone  Solar.R\n",
            "  5   3  Ozone  Solar.R\n",
            "  5   4  Ozone  Solar.R\n",
            "  5   5  Ozone  Solar.R\n",
            "  Ozone Solar.R Wind Temp Month Day\n",
            "1    41     190  7.4   67     5   1\n",
            "2    36     118  8.0   72     5   2\n",
            "3    12     149 12.6   74     5   3\n",
            "4    18     313 11.5   62     5   4\n",
            "5     8     260 14.3   56     5   5\n",
            "6    28     183 14.9   66     5   6\n",
            "     Ozone           Solar.R           Wind             Temp      \n",
            " Min.   :  1.00   Min.   :  7.0   Min.   : 1.700   Min.   :56.00  \n",
            " 1st Qu.: 18.00   1st Qu.:115.0   1st Qu.: 7.400   1st Qu.:72.00  \n",
            " Median : 35.00   Median :201.0   Median : 9.700   Median :79.00  \n",
            " Mean   : 43.15   Mean   :184.8   Mean   : 9.958   Mean   :77.88  \n",
            " 3rd Qu.: 64.00   3rd Qu.:258.0   3rd Qu.:11.500   3rd Qu.:85.00  \n",
            " Max.   :168.00   Max.   :334.0   Max.   :20.700   Max.   :97.00  \n",
            "     Month            Day      \n",
            " Min.   :5.000   Min.   : 1.0  \n",
            " 1st Qu.:6.000   1st Qu.: 8.0  \n",
            " Median :7.000   Median :16.0  \n",
            " Mean   :6.993   Mean   :15.8  \n",
            " 3rd Qu.:8.000   3rd Qu.:23.0  \n",
            " Max.   :9.000   Max.   :31.0  \n"
          ]
        }
      ],
      "source": [
        "%%R\n",
        "\n",
        "imp <- mice(airquality, m = 5)\n",
        "airquality_imputed <- complete(imp)\n",
        "print(head(airquality_imputed))\n",
        "print(summary(airquality_imputed))"
      ]
    },
    {
      "cell_type": "markdown",
      "metadata": {
        "id": "UDwsvfFTsiHG"
      },
      "source": [
        "**m:** m = 1 приводит к однократной интерполяции. Обычно предпочтительнее проводить многократную интерполяцию данных. Однако если вы хотите провести множественную интерполяцию, вы можете либо увеличить m до желаемого количества интерполяций. Или вы можете просто удалить m = 1 из функции импутации, чтобы по умолчанию задать пять наборов данных для восстановления.\n",
        "\n",
        "**method:** С помощью аргумента method можно выбрать различный метод интерполяции для каждой из переменных. В mice для числовых переменных используется метод прогнозируемого среднего, а для категориальных данных - мультиномиальная логистическая регрессия.\n",
        "\n",
        "**predictorMatrix:** mice автоматически использует все доступные переменные в качестве модели восстановления. Модели восстановления могут быть указаны с помощью аргумента predictorMatrix, но часто имеет смысл использовать как можно больше переменных. \n",
        "\n",
        "**maxit:** Недостающие значения многократно заменяются и удаляются, пока алгоритм восстановления итеративно не сходится к оптимальному значению. По умолчанию функция mice повторяет шаги замены и удаления пять раз. С помощью аргумента maxit это число можно изменить вручную.\n"
      ]
    },
    {
      "cell_type": "markdown",
      "metadata": {
        "id": "48bW2OpWtibH"
      },
      "source": [
        "**Замещение средними / модой**\n",
        "\n",
        "ДОСТОИНСТВА:\n",
        "\n",
        "\n",
        "*   Отсутствующие значения  не уменьшают размер выборки, как это было бы в случае удаления из списка. \n",
        "* Очень просто для понимания и применения. Вы можете легко объяснить метод интерполяции своей аудитории, и все, кто имеет базовые знания в области статистики, поймут, что вы сделали.\n",
        "* Если механизм пропуска - MCAR (полностью случайный пропуск), то выборочное среднее значение вашей переменной не является смещенным. \n",
        "\n",
        "НЕДОСТАТКИ:\n",
        "\n",
        "* Метод приводит к смещению многомерных оценок, таких как коэффициенты корреляции или регрессии. Значения, которые заменяются средним значением переменной, в общем случае имеют нулевую корреляцию с другими переменными. Поэтому взаимосвязи между переменными смещены в сторону нуля.\n",
        "* Стандартные ошибки и дисперсии восстановленных переменных являются смещенными. \n",
        "\n"
      ]
    },
    {
      "cell_type": "code",
      "execution_count": 35,
      "metadata": {
        "colab": {
          "base_uri": "https://localhost:8080/"
        },
        "id": "ks4wN7GFsbg0",
        "outputId": "b3f25702-befc-4a1f-bd53-2a58b0d4ae82"
      },
      "outputs": [
        {
          "output_type": "stream",
          "name": "stdout",
          "text": [
            "[1] 28  5 70\n",
            "     x1 x2  x3\n",
            "1    NA 16  -2\n",
            "2 -0.16 10  NA\n",
            "3 -1.23 13 -22\n",
            "4 -0.33  9 -33\n",
            "5    NA 15  NA\n",
            "6 -0.67 13  NA\n"
          ]
        }
      ],
      "source": [
        "%%R\n",
        "\n",
        "\n",
        "N <- 100        # Sample size\n",
        " \n",
        "# Some random variables\n",
        "x1 <- round(rnorm(N), 2)\n",
        "x2 <- round(x1 + rnorm(N, 10, 5))\n",
        "x3 <- round(runif(N, -100, 20))\n",
        " \n",
        "# Insert missing values\n",
        "x1[rbinom(N, 1, 0.2) == 1] <- NA  # 20% missingness\n",
        "x2[rbinom(N, 1, 0.05) == 1] <- NA # 5% missingness\n",
        "x3[rbinom(N, 1, 0.7) == 1] <- NA  # 70% missingness\n",
        " \n",
        "# Indicator for missings \n",
        "x1_miss_ind <- is.na(x1)\n",
        "x2_miss_ind <- is.na(x2)\n",
        "x3_miss_ind <- is.na(x3)\n",
        "\n",
        "print(c(sum(x1_miss_ind), sum(x2_miss_ind), sum(x3_miss_ind))) \n",
        "\n",
        "# Store variables in a data frame\n",
        "data <- data.frame(x1, x2, x3)\n",
        "head(data)        "
      ]
    },
    {
      "cell_type": "code",
      "execution_count": 36,
      "metadata": {
        "id": "1e6xvaLy58iW"
      },
      "outputs": [],
      "source": [
        "%%R\n",
        "\n",
        "getmode <- function(v) {\n",
        "   uniqv <- na.omit(unique(v))\n",
        "   uniqv[which.max(tabulate(match(v, uniqv)))]\n",
        "}"
      ]
    },
    {
      "cell_type": "code",
      "execution_count": 37,
      "metadata": {
        "colab": {
          "base_uri": "https://localhost:8080/"
        },
        "id": "3KKxNWScvIeW",
        "outputId": "c1168cbb-cc61-427b-cdcb-4f9e778aaf5c"
      },
      "outputs": [
        {
          "output_type": "stream",
          "name": "stdout",
          "text": [
            "    Min.  1st Qu.   Median     Mean  3rd Qu.     Max. \n",
            "-2.51000 -0.29000  0.04514  0.04514  0.32250  2.58000 \n"
          ]
        }
      ],
      "source": [
        "%%R\n",
        "##### Imputation of one column (i.e. a vector) #####\n",
        " \n",
        "data$x1[is.na(data$x1)] <- mean(data$x1, na.rm = TRUE)\n",
        "#data$x1[is.na(data$x1)] <- getmode(data$x1)\n",
        "summary(data$x1)"
      ]
    },
    {
      "cell_type": "code",
      "execution_count": 38,
      "metadata": {
        "colab": {
          "base_uri": "https://localhost:8080/"
        },
        "id": "V_FFcfWjv9-4",
        "outputId": "e75c5d6a-6be3-455d-959c-9301d593d790"
      },
      "outputs": [
        {
          "output_type": "stream",
          "name": "stdout",
          "text": [
            "           x1 x2  x3\n",
            "1  0.04513889 16  -2\n",
            "2 -0.16000000 10 -25\n",
            "3 -1.23000000 13 -22\n",
            "4 -0.33000000  9 -33\n",
            "5  0.04513889 15 -25\n",
            "6 -0.67000000 13 -25\n"
          ]
        }
      ],
      "source": [
        "%%R\n",
        "##### Imputation of multiple columns (i.e. the whole data frame) #####\n",
        " \n",
        "for(i in 1:ncol(data)) {\n",
        "  data[ , i][is.na(data[ , i])] <- median(data[ , i], na.rm = TRUE)\n",
        "  #data[ , i][is.na(data[ , i])] <- getmode(data[ , i])\n",
        "}\n",
        "head(data) # Check first 6 rows after substitution by mean"
      ]
    },
    {
      "cell_type": "code",
      "execution_count": 39,
      "metadata": {
        "colab": {
          "base_uri": "https://localhost:8080/",
          "height": 497
        },
        "id": "QSPfgjE5wJxF",
        "outputId": "4d1ec3da-ed50-4697-fe56-5098936f61e2"
      },
      "outputs": [
        {
          "output_type": "display_data",
          "data": {
            "image/png": "[encoded data removed]"
          },
          "metadata": {}
        }
      ],
      "source": [
        "%%R\n",
        "##### Density of x1 pre and post imputation #####\n",
        " \n",
        "# Density of observed data\n",
        "plot(density(data$x1[x1_miss_ind == FALSE]),\n",
        "     xlim = c(- 4, 4),\n",
        "     ylim = c(0, 0.9),\n",
        "     lwd = 2, \n",
        "     main = \"Density Pre and Post Mean Imputation\",\n",
        "     xlab = \"X1\")\n",
        " \n",
        "# Density of observed & imputed data\n",
        "points(density(data$x1), \n",
        "       lwd = 2, \n",
        "       type = \"l\", \n",
        "       col = \"red\")\n",
        " \n",
        "# Legend\n",
        "legend(\"topleft\",\n",
        "       c(\"Before Imputation\", \"After Imputation\"),\n",
        "       lty = 1,\n",
        "       lwd = 2,\n",
        "       col = c(\"black\", \"red\"))"
      ]
    },
    {
      "cell_type": "markdown",
      "metadata": {
        "id": "2fkA0PuG-InQ"
      },
      "source": [
        "*Линейная регрессионная модель* оценивается на основе наблюдаемых значений целевой переменной Y и некоторых объясняющих переменных X.\n",
        "Модель используется для прогнозирования значений отсутствующих случаев в Y. Затем отсутствующие значения Y заменяются на основе этих прогнозов.\n",
        "Взаимосвязи X и Y (т.е. корреляции, коэффициенты регрессии и т.д.) сохраняются, поскольку замещенные значения основаны на регрессионных моделях. Это большое преимущество перед более простыми методами.\n",
        "\n",
        "Регрессионный метод восстановления может быть классифицирован на: детерминированную и стохастическую регрессионную модели.\n",
        "\n",
        "*Детерминированное регрессионное восстановление* заменяет недостающие значения точным предсказанием регрессионной модели. Случайная вариация (т.е. член ошибки) вокруг наклона регрессии не учитывается. Поэтому вмененные значения часто слишком точны и приводят к переоценке корреляции между X и Y.\n",
        "\n",
        "*Стохастическое регрессионное восстановление* было разработано для того, чтобы решить указанную проблему. Стохастическая регрессионная интерполяция добавляет случайный член ошибки к предсказанному значению и поэтому способна более точно воспроизвести корреляцию X и Y."
      ]
    },
    {
      "cell_type": "code",
      "execution_count": null,
      "metadata": {
        "colab": {
          "base_uri": "https://localhost:8080/"
        },
        "id": "falpcIKJwPV_",
        "outputId": "d59a8b5d-d15a-4149-ef2e-5348b9fb28bd"
      },
      "outputs": [
        {
          "output_type": "stream",
          "name": "stdout",
          "text": [
            "   y    x1  x2 x3\n",
            "1 13  8.47  52  5\n",
            "2 26 11.29 182  0\n",
            "3 26 12.20  78  8\n",
            "4 18  9.31 198 10\n",
            "5 NA 11.85  29  1\n",
            "6 NA 11.44  72  5\n"
          ]
        }
      ],
      "source": [
        "%%R\n",
        "\n",
        "# Example data\n",
        " \n",
        "set.seed(9090909) # Create reproducible data\n",
        "N <- 2000 # Sample size\n",
        " \n",
        "y <- round(rnorm(N, 20, 10))            # Dependent variable\n",
        "x1 <- round(0.2 * y + rnorm(N, 5), 2)   # Predictor 1\n",
        "x2 <- round(y * rpois(N, 5))            # Predictor 2\n",
        "x3 <- round(0.01 * y + runif(N, 0, 10)) # Predictor 3\n",
        " \n",
        "data <- data.frame(y, x1, x2, x3)\n",
        " \n",
        "data$y[rbinom(N, 1, 0.2) == 1] <- NA # Aproximately 10% missings in y\n",
        "head(data) # First 6 rows of our example data"
      ]
    },
    {
      "cell_type": "code",
      "execution_count": null,
      "metadata": {
        "colab": {
          "base_uri": "https://localhost:8080/"
        },
        "id": "LhdtQdpB-9ZL",
        "outputId": "e00b1c1f-82ac-406c-d4fc-db9809a3417c"
      },
      "outputs": [
        {
          "output_type": "stream",
          "name": "stdout",
          "text": [
            "\n",
            " iter imp variable\n",
            "  1   1  y\n",
            "  2   1  y\n",
            "  3   1  y\n",
            "  4   1  y\n",
            "  5   1  y\n",
            "\n",
            " iter imp variable\n",
            "  1   1  y\n",
            "  2   1  y\n",
            "  3   1  y\n",
            "  4   1  y\n",
            "  5   1  y\n"
          ]
        }
      ],
      "source": [
        "%%R\n",
        "# Deterministic regression imputation\n",
        " \n",
        "imp <- mice(data, method = \"norm.predict\", m = 1) # Impute data\n",
        "data_det <- complete(imp) # Store data\n",
        "\n",
        "# Stochastic regression imputation\n",
        " \n",
        "imp <- mice(data, method = \"norm.nob\", m = 1) # Impute data\n",
        "data_sto <- complete(imp) # Store data"
      ]
    },
    {
      "cell_type": "code",
      "execution_count": null,
      "metadata": {
        "colab": {
          "base_uri": "https://localhost:8080/",
          "height": 497
        },
        "id": "jLHf3Wap_KfG",
        "outputId": "381b5347-ae2e-4f70-c005-cc8a48a68609"
      },
      "outputs": [
        {
          "output_type": "display_data",
          "data": {
            "image/png": "[encoded data removed]"
          },
          "metadata": {}
        }
      ],
      "source": [
        "%%R\n",
        "\n",
        "# Graphical comparison of deterministic and stochastic regression imputation\n",
        " \n",
        "par(mfrow = c(1, 2)) # Both plots in one graphic\n",
        " \n",
        "# Deterministic regression imputation\n",
        "plot(x1[!is.na(data$y)], data_det$y[!is.na(data$y)],     # Plot of observed values\n",
        "     xlim = c(0, 20), ylim = c(- 15, 60),\n",
        "     main = \"Deterministic Regression Imputation\",\n",
        "     xlab = \"X1\", ylab = \"Y\")\n",
        "points(x1[is.na(data$y)], data_det$y[is.na(data$y)],     # Plot of missing values\n",
        "       col = \"red\")\n",
        "abline(lm(y ~ x1, data_det), col = \"#1b98e0\", lwd = 1.5) # Regression slope\n",
        "legend(\"topleft\",                                        # Legend\n",
        "       c(\"Observed Values\", \"Imputed Values\", \"Regression Y ~ X1\"),\n",
        "       pch = c(1, 1, NA),\n",
        "       lty = c(NA, NA, 1),\n",
        "       col = c(\"black\", \"red\", \"#1b98e0\"))\n",
        " \n",
        "# Stochastic regression imputation\n",
        "plot(x1[!is.na(data$y)], data_sto$y[!is.na(data$y)],     # Plot of observed values\n",
        "     xlim = c(0, 20), ylim = c(- 15, 60),\n",
        "     main = \"Stochastic Regression Imputation\",\n",
        "     xlab = \"X1\", ylab = \"Y\")\n",
        "points(x1[is.na(data$y)], data_sto$y[is.na(data$y)],     # Plot of missing values\n",
        "       col = \"red\")\n",
        "abline(lm(y ~ x1, data_det), col = \"#1b98e0\", lwd = 1.5) # Regression slope\n",
        "legend(\"topleft\",                                        # Legend\n",
        "       c(\"Observed Values\", \"Imputed Values\", \"Regression Y ~ X1\"),\n",
        "       pch = c(1, 1, NA),\n",
        "       lty = c(NA, NA, 1),\n",
        "       col = c(\"black\", \"red\", \"#1b98e0\"))"
      ]
    },
    {
      "cell_type": "code",
      "execution_count": null,
      "metadata": {
        "colab": {
          "base_uri": "https://localhost:8080/"
        },
        "id": "hEO4f39E_Weu",
        "outputId": "d93bd256-98f2-4043-fdbc-a4fa7997ed19"
      },
      "outputs": [
        {
          "output_type": "stream",
          "name": "stdout",
          "text": [
            "[1] 0.897\n",
            "[1] 0.912\n",
            "[1] 0.892\n"
          ]
        }
      ],
      "source": [
        "%%R\n",
        "\n",
        "# Correlation between X1 and Y\n",
        " \n",
        "print(round(cor(y, x1), 3)) # True correlation\n",
        " \n",
        "print(round(cor(data_det$y, data_det$x1), 3)) # Correlation after deterministic regression imputation\n",
        " \n",
        "print(round(cor(data_sto$y, data_sto$x1), 3)) # Correlation after stochastic regression imputation"
      ]
    },
    {
      "cell_type": "code",
      "execution_count": null,
      "metadata": {
        "id": "w6rjCyC8_cax"
      },
      "outputs": [],
      "source": []
    }
  ],
  "metadata": {
    "colab": {
      "provenance": [],
      "authorship_tag": "ABX9TyODPIKOaWV5UUvQPGTO0VZR",
      "include_colab_link": true
    },
    "kernelspec": {
      "display_name": "Python 3",
      "name": "python3"
    },
    "language_info": {
      "name": "python"
    }
  },
  "nbformat": 4,
  "nbformat_minor": 0
}